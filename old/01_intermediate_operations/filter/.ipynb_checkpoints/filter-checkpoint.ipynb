{
 "cells": [
  {
   "cell_type": "markdown",
   "id": "4d62ae06-e209-4320-a0b7-2f5bc3c36cf0",
   "metadata": {},
   "source": [
    "# Filter"
   ]
  },
  {
   "cell_type": "markdown",
   "id": "fbf61d5d-8cb3-4893-9a03-f5a22c8cb697",
   "metadata": {},
   "source": [
    "The filter operation is used to selectively include or exclude elements from a stream based on a given condition."
   ]
  },
  {
   "cell_type": "markdown",
   "id": "6bf6391f-b966-4324-8f86-8cf6580340da",
   "metadata": {},
   "source": [
    "## Example\n",
    "\n",
    "Filter even numbers from a given list."
   ]
  },
  {
   "cell_type": "code",
   "execution_count": 5,
   "id": "7cc41de8-cfa2-4eec-98c4-8fc4813d922f",
   "metadata": {
    "tags": []
   },
   "outputs": [],
   "source": [
    "import java.util.stream.*;"
   ]
  },
  {
   "cell_type": "code",
   "execution_count": 7,
   "id": "413eea3e-8794-4f7f-b444-53b3996c5226",
   "metadata": {
    "scrolled": true
   },
   "outputs": [
    {
     "name": "stdout",
     "output_type": "stream",
     "text": [
      "2\n",
      "4\n",
      "6\n",
      "8\n"
     ]
    }
   ],
   "source": [
    "final var numbers = IntStream.range(1, 10);\n",
    "\n",
    "numbers.filter(n -> n % 2 == 0).forEach(System.out::println);"
   ]
  }
 ],
 "metadata": {
  "kernelspec": {
   "display_name": "Java",
   "language": "java",
   "name": "java"
  },
  "language_info": {
   "codemirror_mode": "java",
   "file_extension": ".jshell",
   "mimetype": "text/x-java-source",
   "name": "Java",
   "pygments_lexer": "java",
   "version": "11.0.19+7-post-Ubuntu-0ubuntu122.04.1"
  }
 },
 "nbformat": 4,
 "nbformat_minor": 5
}
